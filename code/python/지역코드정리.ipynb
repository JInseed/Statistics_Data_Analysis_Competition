{
 "cells": [
  {
   "cell_type": "code",
   "execution_count": 2,
   "id": "82436863",
   "metadata": {},
   "outputs": [],
   "source": [
    "import pandas as pd"
   ]
  },
  {
   "cell_type": "code",
   "execution_count": 5,
   "id": "bbefba8d",
   "metadata": {},
   "outputs": [],
   "source": [
    "df=pd.read_csv('C:/Users/82102/Desktop/깐부 project/깐부 Project/카드데이터시군구정리필요.csv', encoding='utf-8')"
   ]
  },
  {
   "cell_type": "code",
   "execution_count": 6,
   "id": "04788a98",
   "metadata": {},
   "outputs": [
    {
     "data": {
      "text/html": [
       "<div>\n",
       "<style scoped>\n",
       "    .dataframe tbody tr th:only-of-type {\n",
       "        vertical-align: middle;\n",
       "    }\n",
       "\n",
       "    .dataframe tbody tr th {\n",
       "        vertical-align: top;\n",
       "    }\n",
       "\n",
       "    .dataframe thead th {\n",
       "        text-align: right;\n",
       "    }\n",
       "</style>\n",
       "<table border=\"1\" class=\"dataframe\">\n",
       "  <thead>\n",
       "    <tr style=\"text-align: right;\">\n",
       "      <th></th>\n",
       "      <th>지역중분류명</th>\n",
       "      <th>시군구</th>\n",
       "      <th>시도</th>\n",
       "    </tr>\n",
       "  </thead>\n",
       "  <tbody>\n",
       "    <tr>\n",
       "      <th>0</th>\n",
       "      <td>1111</td>\n",
       "      <td>종로구</td>\n",
       "      <td>서울특별시</td>\n",
       "    </tr>\n",
       "    <tr>\n",
       "      <th>1</th>\n",
       "      <td>1114</td>\n",
       "      <td>중구</td>\n",
       "      <td>서울특별시</td>\n",
       "    </tr>\n",
       "    <tr>\n",
       "      <th>2</th>\n",
       "      <td>1117</td>\n",
       "      <td>용산구</td>\n",
       "      <td>서울특별시</td>\n",
       "    </tr>\n",
       "    <tr>\n",
       "      <th>3</th>\n",
       "      <td>1120</td>\n",
       "      <td>성동구</td>\n",
       "      <td>서울특별시</td>\n",
       "    </tr>\n",
       "    <tr>\n",
       "      <th>4</th>\n",
       "      <td>1121</td>\n",
       "      <td>광진구</td>\n",
       "      <td>서울특별시</td>\n",
       "    </tr>\n",
       "    <tr>\n",
       "      <th>...</th>\n",
       "      <td>...</td>\n",
       "      <td>...</td>\n",
       "      <td>...</td>\n",
       "    </tr>\n",
       "    <tr>\n",
       "      <th>224</th>\n",
       "      <td>4887</td>\n",
       "      <td>함양군</td>\n",
       "      <td>경상남도</td>\n",
       "    </tr>\n",
       "    <tr>\n",
       "      <th>225</th>\n",
       "      <td>4888</td>\n",
       "      <td>거창군</td>\n",
       "      <td>경상남도</td>\n",
       "    </tr>\n",
       "    <tr>\n",
       "      <th>226</th>\n",
       "      <td>4889</td>\n",
       "      <td>합천군</td>\n",
       "      <td>경상남도</td>\n",
       "    </tr>\n",
       "    <tr>\n",
       "      <th>227</th>\n",
       "      <td>5011</td>\n",
       "      <td>제주시</td>\n",
       "      <td>제주특별자치도</td>\n",
       "    </tr>\n",
       "    <tr>\n",
       "      <th>228</th>\n",
       "      <td>5013</td>\n",
       "      <td>서귀포시</td>\n",
       "      <td>제주특별자치도</td>\n",
       "    </tr>\n",
       "  </tbody>\n",
       "</table>\n",
       "<p>229 rows × 3 columns</p>\n",
       "</div>"
      ],
      "text/plain": [
       "     지역중분류명   시군구       시도\n",
       "0      1111   종로구    서울특별시\n",
       "1      1114    중구    서울특별시\n",
       "2      1117   용산구    서울특별시\n",
       "3      1120   성동구    서울특별시\n",
       "4      1121   광진구    서울특별시\n",
       "..      ...   ...      ...\n",
       "224    4887   함양군     경상남도\n",
       "225    4888   거창군     경상남도\n",
       "226    4889   합천군     경상남도\n",
       "227    5011   제주시  제주특별자치도\n",
       "228    5013  서귀포시  제주특별자치도\n",
       "\n",
       "[229 rows x 3 columns]"
      ]
     },
     "execution_count": 6,
     "metadata": {},
     "output_type": "execute_result"
    }
   ],
   "source": [
    "df"
   ]
  },
  {
   "cell_type": "code",
   "execution_count": 7,
   "id": "5bdb1a56",
   "metadata": {},
   "outputs": [
    {
     "name": "stderr",
     "output_type": "stream",
     "text": [
      "C:\\Users\\82102\\AppData\\Local\\Temp/ipykernel_56784/3349804335.py:8: SettingWithCopyWarning: \n",
      "A value is trying to be set on a copy of a slice from a DataFrame\n",
      "\n",
      "See the caveats in the documentation: https://pandas.pydata.org/pandas-docs/stable/user_guide/indexing.html#returning-a-view-versus-a-copy\n",
      "  df['지역명'][i]=df['시도'][i][:2]+' '+df['시군구'][i]\n",
      "C:\\Users\\82102\\AppData\\Local\\Temp/ipykernel_56784/3349804335.py:4: SettingWithCopyWarning: \n",
      "A value is trying to be set on a copy of a slice from a DataFrame\n",
      "\n",
      "See the caveats in the documentation: https://pandas.pydata.org/pandas-docs/stable/user_guide/indexing.html#returning-a-view-versus-a-copy\n",
      "  df['지역명'][i]=df['시도'][i]+'.'\n",
      "C:\\Users\\82102\\AppData\\Local\\Temp/ipykernel_56784/3349804335.py:6: SettingWithCopyWarning: \n",
      "A value is trying to be set on a copy of a slice from a DataFrame\n",
      "\n",
      "See the caveats in the documentation: https://pandas.pydata.org/pandas-docs/stable/user_guide/indexing.html#returning-a-view-versus-a-copy\n",
      "  df['지역명'][i]=df['시도'][i][::2]+' '+df['시군구'][i]\n"
     ]
    }
   ],
   "source": [
    "df['지역명']=''\n",
    "for i in range(len(df)):\n",
    "    if df['시도'][i] == '세종' :\n",
    "        df['지역명'][i]=df['시도'][i]+'.'\n",
    "    elif len(df['시도'][i]) == 4:\n",
    "        df['지역명'][i]=df['시도'][i][::2]+' '+df['시군구'][i]\n",
    "    else:\n",
    "        df['지역명'][i]=df['시도'][i][:2]+' '+df['시군구'][i]"
   ]
  },
  {
   "cell_type": "code",
   "execution_count": 9,
   "id": "6b9b7bf5",
   "metadata": {},
   "outputs": [],
   "source": [
    "df=df[['지역중분류명','지역명']]"
   ]
  },
  {
   "cell_type": "code",
   "execution_count": 10,
   "id": "d86a9984",
   "metadata": {},
   "outputs": [],
   "source": [
    "df.to_csv('카드데이터지역코드정리.csv', index=False, encoding='UTF-8-sig')"
   ]
  }
 ],
 "metadata": {
  "kernelspec": {
   "display_name": "Python 3 (ipykernel)",
   "language": "python",
   "name": "python3"
  },
  "language_info": {
   "codemirror_mode": {
    "name": "ipython",
    "version": 3
   },
   "file_extension": ".py",
   "mimetype": "text/x-python",
   "name": "python",
   "nbconvert_exporter": "python",
   "pygments_lexer": "ipython3",
   "version": "3.9.7"
  }
 },
 "nbformat": 4,
 "nbformat_minor": 5
}
